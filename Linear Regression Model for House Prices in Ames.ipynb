{
 "cells": [
  {
   "cell_type": "markdown",
   "metadata": {},
   "source": [
    "# PREDICTING HOUSE PRICES USING LINEAR REGRESSION\n"
   ]
  },
  {
   "cell_type": "markdown",
   "metadata": {},
   "source": [
    "## 1. WRANGLING\n"
   ]
  },
  {
   "cell_type": "code",
   "execution_count": 185,
   "metadata": {
    "collapsed": true
   },
   "outputs": [],
   "source": [
    "import pandas as pd\n",
    "import numpy as np\n",
    "import seaborn as sns\n",
    "import matplotlib.pyplot as plt\n",
    "%matplotlib inline"
   ]
  },
  {
   "cell_type": "code",
   "execution_count": 186,
   "metadata": {},
   "outputs": [
    {
     "data": {
      "text/plain": [
       "(2919, 81)"
      ]
     },
     "execution_count": 186,
     "metadata": {},
     "output_type": "execute_result"
    }
   ],
   "source": [
    "train = pd.read_csv('data/train.csv')\n",
    "train.shape\n",
    "test = pd.read_csv('data/test.csv')\n",
    "test.shape\n",
    "# adding SalePrice column to test dataset for consistency\n",
    "test['SalePrice'] = 0\n",
    "frames = [train, test]\n",
    "df = pd.concat(frames)\n",
    "df.shape"
   ]
  },
  {
   "cell_type": "markdown",
   "metadata": {
    "collapsed": true
   },
   "source": [
    " ## Handling Missing Data"
   ]
  },
  {
   "cell_type": "code",
   "execution_count": 187,
   "metadata": {},
   "outputs": [
    {
     "data": {
      "text/html": [
       "<div>\n",
       "<style>\n",
       "    .dataframe thead tr:only-child th {\n",
       "        text-align: right;\n",
       "    }\n",
       "\n",
       "    .dataframe thead th {\n",
       "        text-align: left;\n",
       "    }\n",
       "\n",
       "    .dataframe tbody tr th {\n",
       "        vertical-align: top;\n",
       "    }\n",
       "</style>\n",
       "<table border=\"1\" class=\"dataframe\">\n",
       "  <thead>\n",
       "    <tr style=\"text-align: right;\">\n",
       "      <th></th>\n",
       "      <th>Missing</th>\n",
       "    </tr>\n",
       "  </thead>\n",
       "  <tbody>\n",
       "    <tr>\n",
       "      <th>PoolQC</th>\n",
       "      <td>2909</td>\n",
       "    </tr>\n",
       "    <tr>\n",
       "      <th>MiscFeature</th>\n",
       "      <td>2814</td>\n",
       "    </tr>\n",
       "    <tr>\n",
       "      <th>Alley</th>\n",
       "      <td>2721</td>\n",
       "    </tr>\n",
       "    <tr>\n",
       "      <th>Fence</th>\n",
       "      <td>2348</td>\n",
       "    </tr>\n",
       "    <tr>\n",
       "      <th>FireplaceQu</th>\n",
       "      <td>1420</td>\n",
       "    </tr>\n",
       "    <tr>\n",
       "      <th>LotFrontage</th>\n",
       "      <td>486</td>\n",
       "    </tr>\n",
       "    <tr>\n",
       "      <th>GarageCond</th>\n",
       "      <td>159</td>\n",
       "    </tr>\n",
       "    <tr>\n",
       "      <th>GarageYrBlt</th>\n",
       "      <td>159</td>\n",
       "    </tr>\n",
       "    <tr>\n",
       "      <th>GarageFinish</th>\n",
       "      <td>159</td>\n",
       "    </tr>\n",
       "    <tr>\n",
       "      <th>GarageQual</th>\n",
       "      <td>159</td>\n",
       "    </tr>\n",
       "    <tr>\n",
       "      <th>GarageType</th>\n",
       "      <td>157</td>\n",
       "    </tr>\n",
       "    <tr>\n",
       "      <th>BsmtCond</th>\n",
       "      <td>82</td>\n",
       "    </tr>\n",
       "    <tr>\n",
       "      <th>BsmtExposure</th>\n",
       "      <td>82</td>\n",
       "    </tr>\n",
       "    <tr>\n",
       "      <th>BsmtQual</th>\n",
       "      <td>81</td>\n",
       "    </tr>\n",
       "    <tr>\n",
       "      <th>BsmtFinType2</th>\n",
       "      <td>80</td>\n",
       "    </tr>\n",
       "    <tr>\n",
       "      <th>BsmtFinType1</th>\n",
       "      <td>79</td>\n",
       "    </tr>\n",
       "    <tr>\n",
       "      <th>MasVnrType</th>\n",
       "      <td>24</td>\n",
       "    </tr>\n",
       "    <tr>\n",
       "      <th>MasVnrArea</th>\n",
       "      <td>23</td>\n",
       "    </tr>\n",
       "    <tr>\n",
       "      <th>MSZoning</th>\n",
       "      <td>4</td>\n",
       "    </tr>\n",
       "    <tr>\n",
       "      <th>Utilities</th>\n",
       "      <td>2</td>\n",
       "    </tr>\n",
       "    <tr>\n",
       "      <th>BsmtHalfBath</th>\n",
       "      <td>2</td>\n",
       "    </tr>\n",
       "    <tr>\n",
       "      <th>BsmtFullBath</th>\n",
       "      <td>2</td>\n",
       "    </tr>\n",
       "    <tr>\n",
       "      <th>Functional</th>\n",
       "      <td>2</td>\n",
       "    </tr>\n",
       "    <tr>\n",
       "      <th>Exterior1st</th>\n",
       "      <td>1</td>\n",
       "    </tr>\n",
       "    <tr>\n",
       "      <th>TotalBsmtSF</th>\n",
       "      <td>1</td>\n",
       "    </tr>\n",
       "    <tr>\n",
       "      <th>BsmtUnfSF</th>\n",
       "      <td>1</td>\n",
       "    </tr>\n",
       "    <tr>\n",
       "      <th>BsmtFinSF2</th>\n",
       "      <td>1</td>\n",
       "    </tr>\n",
       "    <tr>\n",
       "      <th>GarageArea</th>\n",
       "      <td>1</td>\n",
       "    </tr>\n",
       "    <tr>\n",
       "      <th>KitchenQual</th>\n",
       "      <td>1</td>\n",
       "    </tr>\n",
       "    <tr>\n",
       "      <th>GarageCars</th>\n",
       "      <td>1</td>\n",
       "    </tr>\n",
       "    <tr>\n",
       "      <th>BsmtFinSF1</th>\n",
       "      <td>1</td>\n",
       "    </tr>\n",
       "    <tr>\n",
       "      <th>Exterior2nd</th>\n",
       "      <td>1</td>\n",
       "    </tr>\n",
       "    <tr>\n",
       "      <th>SaleType</th>\n",
       "      <td>1</td>\n",
       "    </tr>\n",
       "    <tr>\n",
       "      <th>Electrical</th>\n",
       "      <td>1</td>\n",
       "    </tr>\n",
       "  </tbody>\n",
       "</table>\n",
       "</div>"
      ],
      "text/plain": [
       "              Missing\n",
       "PoolQC           2909\n",
       "MiscFeature      2814\n",
       "Alley            2721\n",
       "Fence            2348\n",
       "FireplaceQu      1420\n",
       "LotFrontage       486\n",
       "GarageCond        159\n",
       "GarageYrBlt       159\n",
       "GarageFinish      159\n",
       "GarageQual        159\n",
       "GarageType        157\n",
       "BsmtCond           82\n",
       "BsmtExposure       82\n",
       "BsmtQual           81\n",
       "BsmtFinType2       80\n",
       "BsmtFinType1       79\n",
       "MasVnrType         24\n",
       "MasVnrArea         23\n",
       "MSZoning            4\n",
       "Utilities           2\n",
       "BsmtHalfBath        2\n",
       "BsmtFullBath        2\n",
       "Functional          2\n",
       "Exterior1st         1\n",
       "TotalBsmtSF         1\n",
       "BsmtUnfSF           1\n",
       "BsmtFinSF2          1\n",
       "GarageArea          1\n",
       "KitchenQual         1\n",
       "GarageCars          1\n",
       "BsmtFinSF1          1\n",
       "Exterior2nd         1\n",
       "SaleType            1\n",
       "Electrical          1"
      ]
     },
     "execution_count": 187,
     "metadata": {},
     "output_type": "execute_result"
    }
   ],
   "source": [
    "missing = df.isnull().sum().sort_values(ascending=False)\n",
    "missing_df = pd.DataFrame(missing, columns = ['Missing'])\n",
    "missing_table = missing_df[missing_df.Missing > 0 ]\n",
    "missing_table.index\n",
    "missing_table"
   ]
  },
  {
   "cell_type": "code",
   "execution_count": 188,
   "metadata": {},
   "outputs": [
    {
     "data": {
      "text/plain": [
       "(2919, 76)"
      ]
     },
     "execution_count": 188,
     "metadata": {},
     "output_type": "execute_result"
    }
   ],
   "source": [
    "df = df.drop(['PoolQC','MiscFeature','Alley','Fence','FireplaceQu'],axis=1)\n",
    "missing_table = missing_table.drop(['PoolQC','MiscFeature','Alley','Fence','FireplaceQu'],axis=0)\n",
    "df.shape"
   ]
  },
  {
   "cell_type": "code",
   "execution_count": 189,
   "metadata": {},
   "outputs": [],
   "source": [
    "# I found out that some numerical features are actually really categories, after going through kaggle user juliencs' notebook\n",
    "# https://www.kaggle.com/juliencs/a-study-on-regression-applied-to-the-ames-dataset\n",
    "\n",
    "df = df.replace({\"MSSubClass\" : {20 : \"SC20\", 30 : \"SC30\", 40 : \"SC40\", 45 : \"SC45\", \n",
    "                                       50 : \"SC50\", 60 : \"SC60\", 70 : \"SC70\", 75 : \"SC75\", \n",
    "                                       80 : \"SC80\", 85 : \"SC85\", 90 : \"SC90\", 120 : \"SC120\", \n",
    "                                       150 : \"SC150\", 160 : \"SC160\", 180 : \"SC180\", 190 : \"SC190\"},\n",
    "                       \"MoSold\" : {1 : \"Jan\", 2 : \"Feb\", 3 : \"Mar\", 4 : \"Apr\", 5 : \"May\", 6 : \"Jun\",\n",
    "                                   7 : \"Jul\", 8 : \"Aug\", 9 : \"Sep\", 10 : \"Oct\", 11 : \"Nov\", 12 : \"Dec\"}\n",
    "                      })\n",
    "df['MSSubClass'] = df['MSSubClass'].astype('category')\n",
    "df['MoSold'] = df['MoSold'].astype('category')"
   ]
  },
  {
   "cell_type": "code",
   "execution_count": null,
   "metadata": {},
   "outputs": [],
   "source": []
  },
  {
   "cell_type": "code",
   "execution_count": 190,
   "metadata": {},
   "outputs": [
    {
     "name": "stdout",
     "output_type": "stream",
     "text": [
      "Numeric Variables: \n",
      "['LotFrontage', 'GarageYrBlt', 'MasVnrArea', 'BsmtHalfBath', 'BsmtFullBath', 'TotalBsmtSF', 'BsmtUnfSF', 'BsmtFinSF2', 'GarageArea', 'GarageCars', 'BsmtFinSF1']\n",
      "Non-Numeric Variables: \n",
      "['GarageCond', 'GarageFinish', 'GarageQual', 'GarageType', 'BsmtCond', 'BsmtExposure', 'BsmtQual', 'BsmtFinType2', 'BsmtFinType1', 'MasVnrType', 'MSZoning', 'Utilities', 'Functional', 'Exterior1st', 'KitchenQual', 'Exterior2nd', 'SaleType', 'Electrical']\n"
     ]
    }
   ],
   "source": [
    "numeric = []\n",
    "non_numeric = []\n",
    "for missing in missing_table.index:\n",
    "    if df[missing].dtype == np.object:\n",
    "        non_numeric.append(missing)\n",
    "    else:\n",
    "        numeric.append(missing)\n",
    "print ('Numeric Variables: ')\n",
    "print (numeric)\n",
    "print ('Non-Numeric Variables: ')\n",
    "print(non_numeric)   "
   ]
  },
  {
   "cell_type": "code",
   "execution_count": 191,
   "metadata": {},
   "outputs": [
    {
     "data": {
      "text/html": [
       "<div>\n",
       "<style>\n",
       "    .dataframe thead tr:only-child th {\n",
       "        text-align: right;\n",
       "    }\n",
       "\n",
       "    .dataframe thead th {\n",
       "        text-align: left;\n",
       "    }\n",
       "\n",
       "    .dataframe tbody tr th {\n",
       "        vertical-align: top;\n",
       "    }\n",
       "</style>\n",
       "<table border=\"1\" class=\"dataframe\">\n",
       "  <thead>\n",
       "    <tr style=\"text-align: right;\">\n",
       "      <th></th>\n",
       "      <th>Missing</th>\n",
       "    </tr>\n",
       "  </thead>\n",
       "  <tbody>\n",
       "  </tbody>\n",
       "</table>\n",
       "</div>"
      ],
      "text/plain": [
       "Empty DataFrame\n",
       "Columns: [Missing]\n",
       "Index: []"
      ]
     },
     "execution_count": 191,
     "metadata": {},
     "output_type": "execute_result"
    }
   ],
   "source": [
    "for var in numeric:\n",
    "    df[var] = df[var].fillna(0)\n",
    "\n",
    "fill_with_no = [\"BsmtQual\",\"BsmtCond\",\"BsmtExposure\",\"BsmtFinType1\",\"BsmtFinType2\",\"GarageType\",\"GarageFinish\",\"GarageQual\",\"GarageCond\"]\n",
    "for var in fill_with_no:\n",
    "    df[var] = df[var].fillna(\"NA\")\n",
    "\n",
    "df[\"MasVnrType\"] = df[\"MasVnrType\"].fillna(\"None\")\n",
    "\n",
    "# No Absent Value for 'MSZoning so i'll go ahead to use the mode to replace all Nil values\n",
    "fill_with_mode = [\"MSZoning\",\"Utilities\",\"Functional\",\"Exterior1st\",\"KitchenQual\",\"Exterior2nd\",\"SaleType\",\"Electrical\",\"MSSubClass\",\"MoSold\"]\n",
    "for var in fill_with_mode:\n",
    "    df[var] = df[var].fillna(df[var].mode().iloc[0])\n",
    "\n",
    "# Final check for missing data, should turn up nil\n",
    "missing = df.isnull().sum().sort_values(ascending=False)\n",
    "missing_df = pd.DataFrame(missing, columns = ['Missing'])\n",
    "missing_df[missing_df.Missing > 0 ]"
   ]
  },
  {
   "cell_type": "code",
   "execution_count": null,
   "metadata": {},
   "outputs": [],
   "source": []
  },
  {
   "cell_type": "markdown",
   "metadata": {},
   "source": [
    "CATEGORICAL (ORDINAL)"
   ]
  },
  {
   "cell_type": "code",
   "execution_count": 192,
   "metadata": {},
   "outputs": [
    {
     "data": {
      "text/plain": [
       "(2919, 76)"
      ]
     },
     "execution_count": 192,
     "metadata": {},
     "output_type": "execute_result"
    }
   ],
   "source": [
    "# Converting Ordinal Variables into a numerical scale\n",
    "\n",
    "ordered_lotshape = ['IR3','IR2','IR1','Reg']\n",
    "df['LotShape'] = df['LotShape'].astype(\"category\",ordered=True,categories=ordered_lotshape).cat.codes\n",
    "\n",
    "ordered_landcontour = ['Low','HLS','Bnk','Lvl']\n",
    "df['LandContour'] = df['LandContour'].astype(\"category\",ordered=True,categories=ordered_landcontour).cat.codes\n",
    "\n",
    "ordered_exterqual = ['Po','Fa','TA','Gd','Ex']\n",
    "df['ExterQual'] = df['ExterQual'].astype(\"category\",ordered=True,categories=ordered_exterqual).cat.codes\n",
    "\n",
    "ordered_extercond = ['Po','Fa','TA','Gd','Ex']\n",
    "df['ExterCond'] = df['ExterCond'].astype(\"category\",ordered=True,categories=ordered_extercond).cat.codes\n",
    "\n",
    "ordered_bsmtqual = ['NA','Po','Fa','TA','Gd','Ex']\n",
    "df['BsmtQual'] = df['BsmtQual'].astype(\"category\",ordered=True,categories=ordered_bsmtqual).cat.codes\n",
    "\n",
    "ordered_bsmtcond = ['NA','Po','Fa','TA','Gd','Ex']\n",
    "df['BsmtCond'] = df['BsmtCond'].astype(\"category\",ordered=True,categories=ordered_bsmtcond).cat.codes\n",
    "\n",
    "ordered_bsmtexposure = ['NA','No','Mn','Av','Gd']\n",
    "df['BsmtExposure'] = df['BsmtExposure'].astype(\"category\",ordered=True,categories=ordered_bsmtexposure).cat.codes\n",
    "\n",
    "ordered_bsmtfintype1 = ['NA','Unf','LwQ','Rec','BLQ','ALQ','GLQ']\n",
    "df['BsmtFinType1'] = df['BsmtFinType1'].astype(\"category\",ordered=True,categories=ordered_bsmtfintype1).cat.codes\n",
    "\n",
    "ordered_bsmtfintype2 = ['NA','Unf','LwQ','Rec','BLQ','ALQ','GLQ']\n",
    "df['BsmtFinType2'] = df['BsmtFinType2'].astype(\"category\",ordered=True,categories=ordered_bsmtfintype2).cat.codes\n",
    "\n",
    "ordered_heatingqc = ['Po','Fa','TA','Gd','Ex']\n",
    "df['HeatingQC'] = df['HeatingQC'].astype(\"category\",ordered=True,categories=ordered_heatingqc).cat.codes\n",
    "\n",
    "ordered_kitchenqual = ['Po','Fa','TA','Gd','Ex']\n",
    "df['KitchenQual'] = df['KitchenQual'].astype(\"category\",ordered=True,categories=ordered_kitchenqual).cat.codes\n",
    "\n",
    "ordered_functional = ['Sal','Sev','Maj1','Maj2','Mod','Min2','Min1','Typ']\n",
    "df['Functional'] = df['Functional'].astype(\"category\",ordered=True,categories=ordered_functional).cat.codes\n",
    "\n",
    "ordered_garagefinish = ['NA','Unf','RFn','Fin']\n",
    "df['GarageFinish'] = df['GarageFinish'].astype(\"category\",ordered=True,categories=ordered_garagefinish).cat.codes\n",
    "\n",
    "ordered_garagequal = ['NA','Po','Fa','TA','Gd','Ex']\n",
    "df['GarageQual'] = df['GarageQual'].astype(\"category\",ordered=True,categories=ordered_garagequal).cat.codes\n",
    "\n",
    "ordered_garagecond = ['NA','Po','Fa','TA','Gd','Ex']\n",
    "df['GarageCond'] = df['GarageCond'].astype(\"category\",ordered=True,categories=ordered_garagecond).cat.codes\n",
    "\n",
    "df.shape"
   ]
  },
  {
   "cell_type": "code",
   "execution_count": 193,
   "metadata": {},
   "outputs": [
    {
     "name": "stdout",
     "output_type": "stream",
     "text": [
      "[3 2 1 0]\n",
      "[3 2 0 1]\n",
      "[3 2 4 1]\n",
      "[3 2 0 4 1 5]\n",
      "[2 3 1 0 4]\n",
      "[4 3 5 0 2]\n",
      "[3 4 0 2 1]\n",
      "[1 4 2 3 0]\n",
      "[6 5 1 3 4 0 2]\n",
      "[1 4 0 5 3 2 6]\n",
      "[4 3 2 1 0]\n",
      "[3 2 4 1]\n",
      "[7 6 2 5 4 3 1]\n",
      "[2 1 3 0]\n",
      "[3 2 4 0 5 1]\n"
     ]
    }
   ],
   "source": [
    "# check if we have int values in our newly converted variables\n",
    "ordinal = ['LotShape','LandContour','ExterQual','GarageCond','ExterCond','BsmtQual','BsmtCond','BsmtExposure','BsmtFinType1','BsmtFinType2','HeatingQC','KitchenQual','Functional','GarageFinish','GarageQual']\n",
    "for var in ordinal:\n",
    "    print(df[var].unique())"
   ]
  },
  {
   "cell_type": "code",
   "execution_count": 194,
   "metadata": {},
   "outputs": [
    {
     "data": {
      "text/plain": [
       "(2919, 193)"
      ]
     },
     "execution_count": 194,
     "metadata": {},
     "output_type": "execute_result"
    }
   ],
   "source": [
    "# Norminal Variables - MSZoning, Street, Alley, LotConfig, Neighborhood, Condition1, Condition2, BldgType, RoofStyle,\n",
    "#                      HouseStyle,RoofMatl,Exterior1st,Exterior2nd,MasVnrType,Foundation,Heating, CentralAir, Electrical, GarageType\n",
    "#                     PavedDrive, Fence, MiscFeature, SaleType, SaleCondition, 'Utilities','LandSlope'\n",
    "category = ['Utilities','LandSlope','MSZoning', 'Street',  'LotConfig', 'Neighborhood', 'Condition1', 'Condition2', 'BldgType', 'RoofStyle','HouseStyle','RoofMatl','Exterior1st','Exterior2nd','MasVnrType','Foundation','Heating', 'CentralAir', 'Electrical', 'GarageType','PavedDrive', 'SaleType', 'SaleCondition','MSSubClass','MoSold']\n",
    "df_dummies = pd.get_dummies(df[category])\n",
    "df = df.drop(df[category],axis=1)\n",
    "df = pd.concat([df, df_dummies],axis=1)\n",
    "df_dummies.shape\n"
   ]
  },
  {
   "cell_type": "code",
   "execution_count": 195,
   "metadata": {
    "collapsed": true
   },
   "outputs": [],
   "source": [
    "# From our combined we get back our train & test datasets\n",
    "# 2797-1459\n",
    "train = df[:1460]\n",
    "test = df[1460:]"
   ]
  },
  {
   "cell_type": "code",
   "execution_count": 196,
   "metadata": {},
   "outputs": [
    {
     "data": {
      "text/html": [
       "<div>\n",
       "<style>\n",
       "    .dataframe thead tr:only-child th {\n",
       "        text-align: right;\n",
       "    }\n",
       "\n",
       "    .dataframe thead th {\n",
       "        text-align: left;\n",
       "    }\n",
       "\n",
       "    .dataframe tbody tr th {\n",
       "        vertical-align: top;\n",
       "    }\n",
       "</style>\n",
       "<table border=\"1\" class=\"dataframe\">\n",
       "  <thead>\n",
       "    <tr style=\"text-align: right;\">\n",
       "      <th></th>\n",
       "      <th>Id</th>\n",
       "      <th>LotFrontage</th>\n",
       "      <th>LotArea</th>\n",
       "      <th>LotShape</th>\n",
       "      <th>LandContour</th>\n",
       "      <th>OverallQual</th>\n",
       "      <th>OverallCond</th>\n",
       "      <th>YearBuilt</th>\n",
       "      <th>YearRemodAdd</th>\n",
       "      <th>MasVnrArea</th>\n",
       "      <th>...</th>\n",
       "      <th>MoSold_Dec</th>\n",
       "      <th>MoSold_Feb</th>\n",
       "      <th>MoSold_Jan</th>\n",
       "      <th>MoSold_Jul</th>\n",
       "      <th>MoSold_Jun</th>\n",
       "      <th>MoSold_Mar</th>\n",
       "      <th>MoSold_May</th>\n",
       "      <th>MoSold_Nov</th>\n",
       "      <th>MoSold_Oct</th>\n",
       "      <th>MoSold_Sep</th>\n",
       "    </tr>\n",
       "  </thead>\n",
       "  <tbody>\n",
       "    <tr>\n",
       "      <th>0</th>\n",
       "      <td>1</td>\n",
       "      <td>65.0</td>\n",
       "      <td>8450</td>\n",
       "      <td>3</td>\n",
       "      <td>3</td>\n",
       "      <td>7</td>\n",
       "      <td>5</td>\n",
       "      <td>2003</td>\n",
       "      <td>2003</td>\n",
       "      <td>196.0</td>\n",
       "      <td>...</td>\n",
       "      <td>0</td>\n",
       "      <td>1</td>\n",
       "      <td>0</td>\n",
       "      <td>0</td>\n",
       "      <td>0</td>\n",
       "      <td>0</td>\n",
       "      <td>0</td>\n",
       "      <td>0</td>\n",
       "      <td>0</td>\n",
       "      <td>0</td>\n",
       "    </tr>\n",
       "    <tr>\n",
       "      <th>1</th>\n",
       "      <td>2</td>\n",
       "      <td>80.0</td>\n",
       "      <td>9600</td>\n",
       "      <td>3</td>\n",
       "      <td>3</td>\n",
       "      <td>6</td>\n",
       "      <td>8</td>\n",
       "      <td>1976</td>\n",
       "      <td>1976</td>\n",
       "      <td>0.0</td>\n",
       "      <td>...</td>\n",
       "      <td>0</td>\n",
       "      <td>0</td>\n",
       "      <td>0</td>\n",
       "      <td>0</td>\n",
       "      <td>0</td>\n",
       "      <td>0</td>\n",
       "      <td>1</td>\n",
       "      <td>0</td>\n",
       "      <td>0</td>\n",
       "      <td>0</td>\n",
       "    </tr>\n",
       "    <tr>\n",
       "      <th>2</th>\n",
       "      <td>3</td>\n",
       "      <td>68.0</td>\n",
       "      <td>11250</td>\n",
       "      <td>2</td>\n",
       "      <td>3</td>\n",
       "      <td>7</td>\n",
       "      <td>5</td>\n",
       "      <td>2001</td>\n",
       "      <td>2002</td>\n",
       "      <td>162.0</td>\n",
       "      <td>...</td>\n",
       "      <td>0</td>\n",
       "      <td>0</td>\n",
       "      <td>0</td>\n",
       "      <td>0</td>\n",
       "      <td>0</td>\n",
       "      <td>0</td>\n",
       "      <td>0</td>\n",
       "      <td>0</td>\n",
       "      <td>0</td>\n",
       "      <td>1</td>\n",
       "    </tr>\n",
       "    <tr>\n",
       "      <th>3</th>\n",
       "      <td>4</td>\n",
       "      <td>60.0</td>\n",
       "      <td>9550</td>\n",
       "      <td>2</td>\n",
       "      <td>3</td>\n",
       "      <td>7</td>\n",
       "      <td>5</td>\n",
       "      <td>1915</td>\n",
       "      <td>1970</td>\n",
       "      <td>0.0</td>\n",
       "      <td>...</td>\n",
       "      <td>0</td>\n",
       "      <td>1</td>\n",
       "      <td>0</td>\n",
       "      <td>0</td>\n",
       "      <td>0</td>\n",
       "      <td>0</td>\n",
       "      <td>0</td>\n",
       "      <td>0</td>\n",
       "      <td>0</td>\n",
       "      <td>0</td>\n",
       "    </tr>\n",
       "    <tr>\n",
       "      <th>4</th>\n",
       "      <td>5</td>\n",
       "      <td>84.0</td>\n",
       "      <td>14260</td>\n",
       "      <td>2</td>\n",
       "      <td>3</td>\n",
       "      <td>8</td>\n",
       "      <td>5</td>\n",
       "      <td>2000</td>\n",
       "      <td>2000</td>\n",
       "      <td>350.0</td>\n",
       "      <td>...</td>\n",
       "      <td>1</td>\n",
       "      <td>0</td>\n",
       "      <td>0</td>\n",
       "      <td>0</td>\n",
       "      <td>0</td>\n",
       "      <td>0</td>\n",
       "      <td>0</td>\n",
       "      <td>0</td>\n",
       "      <td>0</td>\n",
       "      <td>0</td>\n",
       "    </tr>\n",
       "  </tbody>\n",
       "</table>\n",
       "<p>5 rows × 244 columns</p>\n",
       "</div>"
      ],
      "text/plain": [
       "   Id  LotFrontage  LotArea  LotShape  LandContour  OverallQual  OverallCond  \\\n",
       "0   1         65.0     8450         3            3            7            5   \n",
       "1   2         80.0     9600         3            3            6            8   \n",
       "2   3         68.0    11250         2            3            7            5   \n",
       "3   4         60.0     9550         2            3            7            5   \n",
       "4   5         84.0    14260         2            3            8            5   \n",
       "\n",
       "   YearBuilt  YearRemodAdd  MasVnrArea     ...      MoSold_Dec  MoSold_Feb  \\\n",
       "0       2003          2003       196.0     ...               0           1   \n",
       "1       1976          1976         0.0     ...               0           0   \n",
       "2       2001          2002       162.0     ...               0           0   \n",
       "3       1915          1970         0.0     ...               0           1   \n",
       "4       2000          2000       350.0     ...               1           0   \n",
       "\n",
       "   MoSold_Jan  MoSold_Jul  MoSold_Jun  MoSold_Mar  MoSold_May  MoSold_Nov  \\\n",
       "0           0           0           0           0           0           0   \n",
       "1           0           0           0           0           1           0   \n",
       "2           0           0           0           0           0           0   \n",
       "3           0           0           0           0           0           0   \n",
       "4           0           0           0           0           0           0   \n",
       "\n",
       "   MoSold_Oct  MoSold_Sep  \n",
       "0           0           0  \n",
       "1           0           0  \n",
       "2           0           1  \n",
       "3           0           0  \n",
       "4           0           0  \n",
       "\n",
       "[5 rows x 244 columns]"
      ]
     },
     "execution_count": 196,
     "metadata": {},
     "output_type": "execute_result"
    }
   ],
   "source": [
    "train.head()"
   ]
  },
  {
   "cell_type": "code",
   "execution_count": 197,
   "metadata": {},
   "outputs": [
    {
     "name": "stdout",
     "output_type": "stream",
     "text": [
      "(1459, 244)\n"
     ]
    }
   ],
   "source": [
    "test.tail()\n",
    "print test.shape"
   ]
  },
  {
   "cell_type": "markdown",
   "metadata": {},
   "source": [
    "## 3. MODEL SELECTION & TRAINING \n"
   ]
  },
  {
   "cell_type": "markdown",
   "metadata": {},
   "source": [
    "#### 3.2 Using all Features with Linear Regression"
   ]
  },
  {
   "cell_type": "code",
   "execution_count": 198,
   "metadata": {},
   "outputs": [
    {
     "name": "stdout",
     "output_type": "stream",
     "text": [
      "Root Mean squared error: 22716.27\n",
      "0.918178808945\n"
     ]
    }
   ],
   "source": [
    "# import our linear model\n",
    "from sklearn import linear_model\n",
    "from sklearn.metrics import mean_squared_error\n",
    "from math import sqrt, log\n",
    "# X is our Features.\n",
    "X = train.drop(['SalePrice'],axis=1)\n",
    "# Y is the target variable.\n",
    "Y = train.SalePrice\n",
    "lm = linear_model.LinearRegression()\n",
    "lm.fit(X,Y)\n",
    "# predictions = lm.predict(X)\n",
    "\n",
    "train_prediction = lm.predict(X)\n",
    "print(\"Root Mean squared error: %.2f\" % sqrt(mean_squared_error((Y), train_prediction)))\n",
    "print(lm.score(X,Y))\n"
   ]
  },
  {
   "cell_type": "code",
   "execution_count": 199,
   "metadata": {},
   "outputs": [
    {
     "data": {
      "text/plain": [
       "<matplotlib.text.Text at 0xf4fb4a8>"
      ]
     },
     "execution_count": 199,
     "metadata": {},
     "output_type": "execute_result"
    },
    {
     "data": {
      "image/png": "[encoded data removed]",
      "text/plain": [
       "<matplotlib.figure.Figure at 0xcd8eb00>"
      ]
     },
     "metadata": {},
     "output_type": "display_data"
    }
   ],
   "source": [
    "# test = test.drop(['SalePrice'],axis=1)\n",
    "train_prediction = lm.predict(X)\n",
    "pred = pd.DataFrame(abs(train_prediction))\n",
    "plt.scatter(train_prediction, (train_prediction - Y), c='b')\n",
    "plt.title('Residual plot')"
   ]
  },
  {
   "cell_type": "code",
   "execution_count": 200,
   "metadata": {},
   "outputs": [],
   "source": [
    "# sns.distplot(train_prediction-Y)"
   ]
  },
  {
   "cell_type": "code",
   "execution_count": 201,
   "metadata": {},
   "outputs": [
    {
     "data": {
      "image/png": "[encoded data removed]",
      "text/plain": [
       "<matplotlib.figure.Figure at 0xf4e3400>"
      ]
     },
     "metadata": {},
     "output_type": "display_data"
    }
   ],
   "source": [
    "plt.scatter(pred, Y, c = \"blue\", marker = \"s\", label = \"Training data\")\n",
    "plt.title(\"Linear regression\")\n",
    "plt.xlabel(\"Predicted values\")\n",
    "plt.ylabel(\"Real values\")\n",
    "plt.legend(loc = \"upper left\")\n",
    "plt.show()"
   ]
  },
  {
   "cell_type": "code",
   "execution_count": 202,
   "metadata": {},
   "outputs": [],
   "source": [
    "test = test.drop(['SalePrice'],axis=1)\n",
    "test_prediction = lm.predict(test)\n",
    "test_pred = pd.DataFrame(abs(test_prediction))\n",
    "ID = pd.DataFrame(test['Id'])\n",
    "pred = ID.join(test_pred)\n",
    "pred.to_csv('submission.csv', header=['Id','SalePrice'],index=False)"
   ]
  },
  {
   "cell_type": "markdown",
   "metadata": {},
   "source": [
    "#### 3.2 Linear Regression with Recursive Feature Elimination"
   ]
  },
  {
   "cell_type": "code",
   "execution_count": 204,
   "metadata": {},
   "outputs": [
    {
     "data": {
      "text/plain": [
       "0.85559446877529033"
      ]
     },
     "execution_count": 204,
     "metadata": {},
     "output_type": "execute_result"
    }
   ],
   "source": [
    "from sklearn import linear_model\n",
    "from sklearn.feature_selection import RFE\n",
    "\n",
    "X = train.drop(['SalePrice'],axis=1)\n",
    "Y = train.SalePrice\n",
    "\n",
    "lm = linear_model.LinearRegression()\n",
    "rfe = RFE(lm, n_features_to_select=150)\n",
    "rfe = rfe.fit(X,Y) \n",
    "rfe_score = rfe.score(X,Y)\n",
    "rfe_score"
   ]
  },
  {
   "cell_type": "code",
   "execution_count": null,
   "metadata": {},
   "outputs": [],
   "source": []
  },
  {
   "cell_type": "code",
   "execution_count": null,
   "metadata": {
    "collapsed": true
   },
   "outputs": [],
   "source": []
  }
 ],
 "metadata": {
  "kernelspec": {
   "display_name": "Python 2",
   "language": "python",
   "name": "python2"
  },
  "language_info": {
   "codemirror_mode": {
    "name": "ipython",
    "version": 2
   },
   "file_extension": ".py",
   "mimetype": "text/x-python",
   "name": "python",
   "nbconvert_exporter": "python",
   "pygments_lexer": "ipython2",
   "version": "2.7.13"
  }
 },
 "nbformat": 4,
 "nbformat_minor": 2
}
